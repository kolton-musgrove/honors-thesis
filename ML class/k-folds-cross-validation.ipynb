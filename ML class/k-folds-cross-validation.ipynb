{
 "cells": [
  {
   "attachments": {},
   "cell_type": "markdown",
   "metadata": {},
   "source": [
    "### K-Folds Cross Validation\n",
    "The process of \"folding\" a dataset into distinct sections (usually 10) that the model loops over and trains upon while holding the current \"fold\" out of the model to use for evaluation of the other \"folds\". This is an alternative to using a test/train split."
   ]
  },
  {
   "cell_type": "code",
   "execution_count": 35,
   "metadata": {},
   "outputs": [],
   "source": [
    "from pandas import read_excel, DataFrame\n",
    "from numpy import mean, std\n",
    "from sklearn.model_selection import KFold, cross_val_score\n",
    "from sklearn.linear_model import LogisticRegression"
   ]
  },
  {
   "cell_type": "code",
   "execution_count": 37,
   "metadata": {},
   "outputs": [
    {
     "name": "stdout",
     "output_type": "stream",
     "text": [
      "[0.85       0.9        0.85       0.85       0.75       0.95\n",
      " 0.89473684 0.78947368 0.68421053 0.78947368]\n",
      "     0\n",
      "0    0\n",
      "1    0\n",
      "2    0\n",
      "3    0\n",
      "4    0\n",
      "..  ..\n",
      "191  0\n",
      "192  0\n",
      "193  1\n",
      "194  0\n",
      "195  0\n",
      "\n",
      "[196 rows x 1 columns]\n"
     ]
    }
   ],
   "source": [
    "# create dataset\n",
    "data = read_excel(\"./logreg_1.xlsx\")\n",
    "X, y = data['OscarNominations'], data['Winner']\n",
    "\n",
    "X = X.values.reshape(-1, 1)\n",
    "\n",
    "# create the cross-validation procedure\n",
    "cv = KFold(n_splits=10, shuffle=True)\n",
    "\n",
    "# create model\n",
    "model = LogisticRegression()\n",
    "\n",
    "# evaluate model\n",
    "scores = cross_val_score(model, X, y, scoring='accuracy', cv=cv, n_jobs=3)\n",
    "print(scores)\n",
    "\n",
    "model.fit(X, y)\n",
    "\n",
    "\n",
    "pred = DataFrame(model.predict(X))\n",
    "\n",
    "print(pred)\n"
   ]
  }
 ],
 "metadata": {
  "kernelspec": {
   "display_name": "honors-thesis",
   "language": "python",
   "name": "python3"
  },
  "language_info": {
   "codemirror_mode": {
    "name": "ipython",
    "version": 3
   },
   "file_extension": ".py",
   "mimetype": "text/x-python",
   "name": "python",
   "nbconvert_exporter": "python",
   "pygments_lexer": "ipython3",
   "version": "3.9.7 (default, Sep 16 2021, 13:09:58) \n[GCC 7.5.0]"
  },
  "orig_nbformat": 4,
  "vscode": {
   "interpreter": {
    "hash": "4fe2237835fc00105adfdf00381f4251fe53c1ef370c22a3801530f54cbc564e"
   }
  }
 },
 "nbformat": 4,
 "nbformat_minor": 2
}
